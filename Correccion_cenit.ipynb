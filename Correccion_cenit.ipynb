{
 "cells": [
  {
   "cell_type": "code",
   "execution_count": 1,
   "metadata": {},
   "outputs": [
    {
     "name": "stdout",
     "output_type": "stream",
     "text": [
      "Lista de correcciones para Excel:\n",
      "1.0051507524596917\n",
      "1.00409840951335\n",
      "1.0047918560164584\n",
      "1.007829318599732\n",
      "1.0100792062848427\n",
      "1.0075983585352166\n",
      "1.0120852122377761\n",
      "1.0090082683503192\n",
      "1.015208960951078\n",
      "1.0187727327645022\n",
      "1.0967264583625214\n",
      "1.1064137044549431\n",
      "1.3748557010823048\n",
      "1.4004247914883925\n",
      "1.4912352057314642\n",
      "1.5066429907762011\n",
      "1.247173782851948\n",
      "1.2517721219373847\n"
     ]
    }
   ],
   "source": [
    "import numpy as np\n",
    "from astropy.coordinates import Angle\n",
    "import astropy.units as u\n",
    "\n",
    "\n",
    "# Función para convertir grados, minutos y segundos a radianes\n",
    "def dms_to_radians(dms):\n",
    "    return (\n",
    "        Angle(dms[0], unit=u.deg)\n",
    "        + Angle(dms[1], unit=u.arcmin)\n",
    "        + Angle(dms[2], unit=u.arcsec)\n",
    "    )\n",
    "\n",
    "\n",
    "# Coordenadas de latitud y declinación\n",
    "lat = dms_to_radians((4, 38, 23.2))  # grados minutos y segundos\n",
    "dec = dms_to_radians((8, 56, 2.4))  # grados minutos y segundos\n",
    "\n",
    "# Lista de alturas en grados minutos y segundos\n",
    "alturas = [\n",
    "    (84, 49, 49.9),\n",
    "    (85, 28, 0.9),\n",
    "    (85, 2, 22.3),\n",
    "    (83, 27, 31.8),\n",
    "    (82, 28, 55.4),\n",
    "    (83, 34, 0.1),\n",
    "    (81, 42, 1.7),\n",
    "    (82, 55, 53.8),\n",
    "    (80, 36, 13.8),\n",
    "    (79, 29, 2.0),\n",
    "    (65, 21, 20.0),\n",
    "    (64, 7, 49.6),\n",
    "    (40, 56, 25.0),\n",
    "    (39, 12, 30.9),\n",
    "    (33, 16, 14.8),\n",
    "    (32, 16, 52.3),\n",
    "    (50, 22, 42.7),\n",
    "    (50, 0, 23.0),\n",
    "]\n",
    "\n",
    "# Calcular la corrección\n",
    "s = []\n",
    "for altura in alturas:\n",
    "    altura_rad = dms_to_radians(altura)\n",
    "\n",
    "    x = np.cos(altura_rad.rad)  # Convierte a radianes\n",
    "    y = np.cos(dec.rad)  # Convierte a radianes\n",
    "    z = np.cos(lat.rad)  # Convierte a radianes\n",
    "    i = np.sin(dec.rad)  # Convierte a radianes\n",
    "    j = np.sin(lat.rad)  # Convierte a radianes\n",
    "\n",
    "    correc = 1 / np.cos(x * y * z + i * j)\n",
    "    s.append(correc)\n",
    "\n",
    "# Mostrar la lista de correcciones en formato para Excel\n",
    "print(\"Lista de correcciones para Excel:\")\n",
    "for correccion in s:\n",
    "    print(correccion)"
   ]
  }
 ],
 "metadata": {
  "kernelspec": {
   "display_name": "Python 3",
   "language": "python",
   "name": "python3"
  },
  "language_info": {
   "codemirror_mode": {
    "name": "ipython",
    "version": 3
   },
   "file_extension": ".py",
   "mimetype": "text/x-python",
   "name": "python",
   "nbconvert_exporter": "python",
   "pygments_lexer": "ipython3",
   "version": "3.12.7"
  }
 },
 "nbformat": 4,
 "nbformat_minor": 2
}
