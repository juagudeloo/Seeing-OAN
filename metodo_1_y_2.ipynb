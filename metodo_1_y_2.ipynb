{
 "cells": [
  {
   "cell_type": "markdown",
   "metadata": {},
   "source": [
    "## VIDEO TO FRAMES\n",
    "\n",
    "Esta parte del código requiere la ruta donde se aloja el video, y genera los frames de los videos para el Método 1 y Método 2, no es necesario recortar los videos, o eliminar los frames, el código no procesa los primeros y los últimos frames de cada video.\n",
    "\n",
    "Solo cambiar la ruta del video"
   ]
  },
  {
   "cell_type": "code",
   "execution_count": null,
   "metadata": {},
   "outputs": [],
   "source": [
    "import cv2\n",
    "import os\n",
    "\n",
    "\n",
    "# Carpeta con los videos a los que se les quiere extraer los frames\n",
    "folder_path = (r'D:\\Tecnicas_observacionales\\Seeing\\videos')\n",
    "filenames = [file for file in os.listdir(folder_path)]\n",
    "\n",
    "for filename in filenames:\n",
    "    filename = filename[:-4]\n",
    "    print(filename)\n",
    "    \n",
    "    # Ruta del video\n",
    "    video_path = (f\"videos/{filename}.MOV\") # Asume que el video está en una carpeta llamada videos\n",
    "\n",
    "    # Extraer el nombre del archivo sin la extensión para usar como nombre de la carpeta\n",
    "    video_name = os.path.splitext(os.path.basename(video_path))[0]\n",
    "\n",
    "    # Crear una carpeta con el nombre del video si no existe\n",
    "    output_folder = os.path.join(\"frames\", video_name)\n",
    "    if not os.path.exists(output_folder):\n",
    "        try:\n",
    "            os.makedirs(output_folder)\n",
    "        except OSError:\n",
    "            print(\"Error: Creating directory of data\")\n",
    "            exit(1)\n",
    "\n",
    "    # Abrir el video\n",
    "    cam = cv2.VideoCapture(video_path)\n",
    "\n",
    "    # Inicializar el contador de frames\n",
    "    currentframe = 0\n",
    "\n",
    "    print(f\"\\n Inicio de la extracción de frames\")\n",
    "\n",
    "    while True:\n",
    "        # Leer un frame del video\n",
    "        ret, frame = cam.read()\n",
    "\n",
    "        if ret:\n",
    "            # Si hay frames disponibles, continuar creando imágenes\n",
    "            name = os.path.join(output_folder, f\"frame{currentframe}.jpg\")\n",
    "            # print(f\"Creating... {name}\")\n",
    "\n",
    "            # Guardar la imagen extraída\n",
    "            cv2.imwrite(name, frame)\n",
    "\n",
    "            # Incrementar el contador de frames\n",
    "            currentframe += 1\n",
    "        else:\n",
    "            print(\"\\n Extracción de frames completada\")\n",
    "            print(f\"\\n {currentframe} frames generados\")\n",
    "            print(f\"          ....            \")\n",
    "            break\n",
    "\n",
    "    # Liberar todos los recursos y cerrar ventanas una vez terminado\n",
    "    cam.release()\n",
    "    cv2.destroyAllWindows()"
   ]
  },
  {
   "cell_type": "markdown",
   "metadata": {},
   "source": [
    "## Frames Analysis\n",
    "\n",
    "Aquí se determina la distancia entre los spot de las estrellas del método 1 y el método 2. \n",
    "\n",
    "Se requiere insertar la ruta donde se guardaron los frames\n",
    "\n",
    "Sarazin & Roddier (1990), definen la varianza en términos del movimiento total como:\n",
    "\n",
    "$$\n",
    "\\sigma^{2} = 2B_{\\alpha}(0,0) = 0.358 \\left(\\frac{\\lambda}{r_0}\\right)^{5/3} \\left(\\frac{\\lambda}{D}\\right)^{1/3}\n",
    "\n",
    "$$\n",
    "\n",
    "Donde $D$ es el diámetro de las aperturas 4.2 cm, $r_0$ es el parámetro de Fried y $\\lambda$ es la longitud de onda, en este caso el visible , 0.5 $\\mu$ m\n",
    "\n",
    "Seeing :\n",
    "$$\n",
    "FWHM = \\Delta \\theta = 0.98 \\lambda / r_0\n",
    "$$"
   ]
  },
  {
   "cell_type": "code",
   "execution_count": 1,
   "metadata": {},
   "outputs": [],
   "source": [
    "Dhole = 42  # diametro de la apertura  en mm\n",
    "dsep = 144  # diametro de la separacion de las aperturas en mm\n",
    "lamb = 0.0005  # longitud de onda en micrometros (mm)"
   ]
  },
  {
   "cell_type": "code",
   "execution_count": 7,
   "metadata": {},
   "outputs": [],
   "source": [
    "\"\"\"________________Distance_IMG______________\n",
    "Programa que construye el histograma de frecuencias de la separación \n",
    "entre dos \"spots\" (objetos) en el DIMM.\"\"\"\n",
    "\n",
    "\"\"\"_________________Libraries________________________\"\"\"\n",
    "import cv2\n",
    "import os\n",
    "import glob\n",
    "import numpy as np\n",
    "from scipy.stats import norm\n",
    "from scipy.spatial import distance as dist\n",
    "from astropy.stats import mad_std\n",
    "import matplotlib.pyplot as plt\n",
    "import matplotlib.image as mpimg\n",
    "import re\n",
    "from tqdm import tqdm\n",
    "\n",
    "\"\"\"__________________________________________________\"\"\"\n",
    "\n",
    "\n",
    "\"\"\"__________________FUNCTIONS_______________________\"\"\"\n",
    "# Definir una función con parámetros de Open CV\n",
    "def identify_stars_and_distance(image_path, plot=False):\n",
    "    # Cargar imagen con filtro en escala de grises\n",
    "    image = cv2.imread(image_path, cv2.IMREAD_GRAYSCALE)\n",
    "\n",
    "    imagef = image.flatten()\n",
    "    # Datos de la imagen sin los pixs menores a 5 (fondo presuntamente)\n",
    "    image_nob = imagef[np.where(imagef>5)]\n",
    "\n",
    "    # Calcular la desviación estándar (ruido de fondo) de la imagen sin el fondo\n",
    "    std, median = mad_std(image), np.median(image)\n",
    "    \n",
    "    # Aplicar un umbral para binarizar la imagen y destacar los objetos (estrellas) Este parámetro se puede variar según la intensidad de la estrella\n",
    "    _, thresh = cv2.threshold(image, 1.5*median , 255, cv2.THRESH_BINARY)\n",
    "\n",
    "    # Encontrar los contornos de los objetos (estrellas)\n",
    "    contours, _ = cv2.findContours(thresh, cv2.RETR_EXTERNAL, cv2.CHAIN_APPROX_SIMPLE)\n",
    "\n",
    "    # Filtrar unicamente los dos contornos más grandes detectados (asumiendo que son las estrellas)\n",
    "    contours = sorted(contours, key=cv2.contourArea, reverse=True)[:2]\n",
    "\n",
    "    # Obtener los centros de las dos estrellas\n",
    "    star_centers = []  #crear un vector para guardar los centros\n",
    "    for contour in contours:\n",
    "        M = cv2.moments(contour) #calcula los momentos del contorno, función de Open CV\n",
    "        if M[\"m00\"] != 0:  # moo es el area del contorno\n",
    "            cX = int(M[\"m10\"] / M[\"m00\"])  #m10 es el momento espacial para calcular las coordenadas del centroide\n",
    "            cY = int(M[\"m01\"] / M[\"m00\"])  #m01 es el momento espacial para calcular las coordenadas del centroide\n",
    "            star_centers.append((cX, cY)) #guardar las coordenadas de los centros encontrados\n",
    "\n",
    "    # Calcular la distancia entre las dos estrellas\n",
    "    if len(star_centers) == 2:\n",
    "        pixel_distance = dist.euclidean(star_centers[0], star_centers[1])\n",
    "        if plot:\n",
    "            # Load the image\n",
    "            img = mpimg.imread(image_path)\n",
    "            # Display the image\n",
    "            plt.imshow(img)\n",
    "            # print(star_centers)\n",
    "            plt.plot([star_centers[0][0], star_centers[1][0]], [star_centers[0][1], star_centers[1][1]], 'ro', mfc='none')\n",
    "            plt.tight_layout()\n",
    "            plt.axis('off')\n",
    "            # plt.savefig('hm.png', dpi=400)\n",
    "            plt.show()        \n",
    "\n",
    "        return(pixel_distance)\n",
    "    else:\n",
    "        # print(\"No se encontraron estrellas.\")\n",
    "        return 0\n",
    "\n",
    "    # Mostrar la imagen con los centros de las estrellas marcados\n",
    "    # plt.imshow(image, cmap='gray')\n",
    "    # plt.title(f\"Distancia en pixeles: {pixel_distance:.2f}\")\n",
    "    # plt.show()\n",
    "\n",
    "\n",
    "# Definir una funcion para extraer el numero del frame del nombre del archivo\n",
    "def extract_frame_number(filename):\n",
    "    match = re.search(r'frame(\\d+)\\.jpg', filename)\n",
    "    return int(match.group(1)) if match else -1\n",
    "\n",
    "\"\"\"__________________________________________________\"\"\"\n",
    "\n",
    "\"\"\"_____________________SCALE________________________\"\"\"\n",
    "\n",
    "scale_size = 0.358  # segundos de arco por px ('' /px)"
   ]
  },
  {
   "cell_type": "markdown",
   "metadata": {},
   "source": [
    "Corrección por video\n",
    "\n",
    "Factor de recorte, 6000/1920 = 3.125\n",
    "Por relación de frame del video con tamaño captura\n",
    "\n",
    "\n",
    "Unidades radianes o unidades de angulo\n",
    "Longitudinal o transversal\n",
    "\n",
    "\n"
   ]
  },
  {
   "cell_type": "code",
   "execution_count": 9,
   "metadata": {},
   "outputs": [
    {
     "name": "stdout",
     "output_type": "stream",
     "text": [
      "G_3_Altair_190924_23_38_DSC0096_Prisma\n",
      "G_3_Altair_300824_21_43_DSC0035_Mascara\n"
     ]
    }
   ],
   "source": [
    "\"\"\"_____________________MAIN_________________________\"\"\"\n",
    "folder = (r'D:\\Tecnicas_observacionales\\Seeing\\test')\n",
    "files = np.sort([file for file in os.listdir(folder)])\n",
    "\n",
    "values = np.zeros((len(files),6), dtype=object)\n",
    "ff = -1\n",
    "\n",
    "seeing = []\n",
    "sigma = []\n",
    "\n",
    "for filename in files:\n",
    "    ff+=1\n",
    "\n",
    "    # Abrir carpeta donde se encuentran los frames del video\n",
    "    carpeta = f\"{folder}/{filename}\"\n",
    "    print(filename)\n",
    "\n",
    "    # Busqueda de los archivos .jpg\n",
    "    archivos = glob.glob(carpeta + r\"/*.jpg\")\n",
    "\n",
    "    # Ordenar los archivos numéricamente por el número de frame en el nombre asi (0, 1, 2, 3, ...)\n",
    "    archivos.sort(key=extract_frame_number)\n",
    "\n",
    "    # Definir los frames que se procesaran, se escogieron unicamente los frames entre el 40% y el 80% para eliminar errores al inicio y fin\n",
    "    start = int(len(archivos)*0.5)\n",
    "    end = int(len(archivos)*0.8)\n",
    "\n",
    "    nombres = []\n",
    "    for j in archivos:\n",
    "        if carpeta in j:\n",
    "            nombres.append(j.replace(carpeta, \"\"))\n",
    "\n",
    "    if nombres != []:\n",
    "        l = len(nombres)\n",
    "        # print(f\"Procesando {l} archivos .jpg del {start} al {end}\")\n",
    "        # print(\"\\n :: CONSTRUYENDO EL HISTOGRAMA :: \\n\")\n",
    "    else:\n",
    "        print(\"Su carpeta no tiene archivos .jpg\")\n",
    "\n",
    "    distances = []\n",
    "    plotit = False\n",
    "\n",
    "    for k in range(start, end):\n",
    "        # Usar la función en un frame\n",
    "        # identify_stars_and_distance(archivos[k])\n",
    "        # print(f\"archivo {archivos[k]}\") #verificar si se están ejecutando los frames en orden\n",
    "        # dis = identify_stars_and_distance(archivos[k], plotit)*scale_size\n",
    "        dis = identify_stars_and_distance(archivos[k], plotit)\n",
    "\n",
    "        distances.append(dis)  \n",
    "\n",
    "        if dis!=0:\n",
    "            plotit=False\n",
    "    # print(distances)\n",
    "    distances = np.array(distances)\n",
    "    no_stars = len(np.where(distances==0)[0])\n",
    "    # print(f'No se encontraron estrellas en {no_stars} frames, es decir en el {round(no_stars/(end-start+1)*100,2)}% de ellos')\n",
    "\n",
    "    # Guardar las distancias en un archivo llamado nombre_del_video.dat\n",
    "    # np.savetxt(f\"{filename}.dat\", distances, fmt=\"%.6f\", header=\"Distancias entre estrellas (arcsec)\")\n",
    "\n",
    "    # distances = np.loadtxt(f'{filename}.dat')\n",
    "    # distances = distances[np.where(distances!=0)]\n",
    "\n",
    "    # Ajuste de los datos a una distribución normal\n",
    "    mu, std = norm.fit(distances)\n",
    "    # Normalizar los valores del histograma\n",
    "    weights = np.ones_like(distances) / len(distances)\n",
    "    # Graficar el histograma con las distancias\n",
    "    #count, bins, ignored = plt.hist(distances, weights=weights, bins=15, alpha=0.6, color=\"g\", edgecolor=\"black\")\n",
    "\n",
    "    # Graficar la función de densidad de probabilidad (PDF) ajustada\n",
    "    #xmin, xmax = plt.xlim()\n",
    "    #x = np.linspace(xmin, xmax, 100)\n",
    "    #p = norm.pdf(x, mu, std)\n",
    "\n",
    "    # Normalizar la PDF para que se ajuste al histograma\n",
    "    #bin_width = bins[1] - bins[0]\n",
    "    #3p_normalized = p * bin_width  # Ajuste el área de la PDF al histograma\n",
    "    #plt.plot(x, p_normalized, \"k\", linewidth=2)\n",
    "\n",
    "    # Mostrar los valores de mu y sigma\n",
    "    #print(f\"Media (mu): {mu:.3f}, Desviación estándar (σ): {std:.3f}\")\n",
    "    #print(f\"En la distribución normal el FWHM está dado por (2.355 * σ): {2.355*std:.3F}\")\n",
    "\n",
    "    # Grafico\n",
    "    #plt.title(r\"$\\mathrm{Histograma\\ de\\ distancias\\ entre\\ estrellas:}\\ \\mu=%.3f,\\ \\sigma=%.3f,\\ \\mathrm{FWHM}=%.3f$\" % (mu, std, 2.355 * std))\n",
    "    #plt.xlabel(\"Distancia entre los centroides (arcsec)\")\n",
    "    #plt.ylabel(\"Frecuencia\")\n",
    "    #plt.text(0.15, 0.9, f\"Placa: {scale_size} \\\"/px\", transform=plt.gca().transAxes, fontsize=12, color='black', ha='center')\n",
    "    #plt.show()\n",
    "\n",
    "    # Parametro de Fried\n",
    "    r_0 = (((0.358 * (lamb / std) ** 2) ** 3) / Dhole) ** (1 / 5)\n",
    "\n",
    "    # print(f\"El parametro de Fried es :{r_0}\")\n",
    "\n",
    "    # Seeing sin corregir\n",
    "    FWHM = 0.98 * lamb / r_0\n",
    "\n",
    "    seeing.append((filename, FWHM))\n",
    "    sigma.append((filename, std))\n",
    "    # print(f\"El valor del Seeing  es: {FWHM:.3f}\")\n",
    "    # Actualizar la barra de progreso después de procesar cada archivo"
   ]
  },
  {
   "cell_type": "code",
   "execution_count": 10,
   "metadata": {},
   "outputs": [
    {
     "data": {
      "text/plain": [
       "[('G_3_Altair_190924_23_38_DSC0096_Prisma', 1.2915230964082598),\n",
       " ('G_3_Altair_300824_21_43_DSC0035_Mascara', 364.75116310251707)]"
      ]
     },
     "execution_count": 10,
     "metadata": {},
     "output_type": "execute_result"
    }
   ],
   "source": [
    "sigma"
   ]
  },
  {
   "cell_type": "code",
   "execution_count": 12,
   "metadata": {},
   "outputs": [
    {
     "name": "stdout",
     "output_type": "stream",
     "text": [
      "7.495650470628836e-05\n"
     ]
    }
   ],
   "source": [
    "#Parametro de Fried\n",
    "r_0_1= (((0.358 * (lamb / std*0.358) ** 2) ** 3) / Dhole) ** (1 / 5)\n",
    "print(r_0_1*10)"
   ]
  },
  {
   "cell_type": "code",
   "execution_count": 9,
   "metadata": {},
   "outputs": [
    {
     "name": "stdout",
     "output_type": "stream",
     "text": [
      "El parametro de Fried es :2.5712819124517415e-05\n"
     ]
    }
   ],
   "source": [
    "# Parametro de Fried\n",
    "print(f\"El parametro de Fried es :{r_0}\")"
   ]
  },
  {
   "cell_type": "code",
   "execution_count": 7,
   "metadata": {},
   "outputs": [
    {
     "data": {
      "text/plain": [
       "[('G_3_Altair_190924_19_22_DSC_0049_Prisma', 19.05664243298707)]"
      ]
     },
     "execution_count": 7,
     "metadata": {},
     "output_type": "execute_result"
    }
   ],
   "source": [
    "seeing"
   ]
  },
  {
   "cell_type": "markdown",
   "metadata": {},
   "source": [
    "De esta manera se pueden obtener $\\sigma (l)$ y $\\sigma (t)$\n",
    "\n",
    "$$\n",
    "\\sigma_{l}^{2} = \\left[1 - 0.541 \\left(\\frac{d}{D}\\right)^{-1/3} \\right] \\sigma^{2}\n",
    "$$\n",
    "\n",
    "$$\n",
    "\\sigma_{t}^{2} = \\left[1 - 0.811 \\left(\\frac{d}{D}\\right)^{-1/3} \\right] \\sigma^{2}\n",
    "$$\n",
    "\n",
    "De esta manera:\n",
    "\n",
    "$$\n",
    "\\sigma (l)^2 = 2\\lambda^2[0.179/D_{Hole}^{1/3} - 0.097/d_{sep}^{1/3}]r_0(l)^{-5/3}\n",
    "$$\n",
    "\n",
    "$$\n",
    "\\sigma (t)^2 = 2\\lambda^2[0.179/D_{Hole}^{1/3} - 0.145/d_{sep}^{1/3}]r_0(t)^{-5/3}\n",
    "$$"
   ]
  },
  {
   "cell_type": "code",
   "execution_count": null,
   "metadata": {},
   "outputs": [],
   "source": [
    "sq_mu_l = (1 - 0.541 * (dsep / Dhole)**(-1 / 3)) * sq_mu\n",
    "sq_mu_t = (1 - 0.811 * (dsep / Dhole)**(-1 / 3)) * sq_mu\n",
    "\n",
    "print(sq_mu_l)\n",
    "print(sq_mu_t)"
   ]
  }
 ],
 "metadata": {
  "kernelspec": {
   "display_name": "Python 3",
   "language": "python",
   "name": "python3"
  },
  "language_info": {
   "codemirror_mode": {
    "name": "ipython",
    "version": 3
   },
   "file_extension": ".py",
   "mimetype": "text/x-python",
   "name": "python",
   "nbconvert_exporter": "python",
   "pygments_lexer": "ipython3",
   "version": "3.12.7"
  }
 },
 "nbformat": 4,
 "nbformat_minor": 2
}
